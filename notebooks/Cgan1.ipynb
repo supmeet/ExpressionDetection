{
 "cells": [
  {
   "cell_type": "code",
   "execution_count": 1,
   "id": "28895fbd",
   "metadata": {
    "id": "28895fbd"
   },
   "outputs": [
    {
     "name": "stdout",
     "output_type": "stream",
     "text": [
      "WARNING:tensorflow:From C:\\Users\\Owner\\anaconda3\\lib\\site-packages\\keras\\src\\losses.py:2976: The name tf.losses.sparse_softmax_cross_entropy is deprecated. Please use tf.compat.v1.losses.sparse_softmax_cross_entropy instead.\n",
      "\n"
     ]
    }
   ],
   "source": [
    "import numpy as np\n",
    "import tensorflow as tf\n",
    "from tensorflow.keras import layers, models, optimizers\n",
    "from tensorflow.keras.applications.inception_v3 import InceptionV3\n",
    "from tensorflow.keras.applications.inception_v3 import preprocess_input\n",
    "from tensorflow.keras.models import Model\n",
    "from scipy.linalg import sqrtm\n",
    "from sklearn.utils import shuffle\n",
    "import os"
   ]
  },
  {
   "cell_type": "markdown",
   "id": "vTQUBOPrrefH",
   "metadata": {
    "id": "vTQUBOPrrefH"
   },
   "source": [
    "# Set GPU memory growth to avoid OOM errors\n"
   ]
  },
  {
   "cell_type": "code",
   "execution_count": 2,
   "id": "a02d3705",
   "metadata": {
    "id": "a02d3705"
   },
   "outputs": [],
   "source": [
    "physical_devices = tf.config.experimental.list_physical_devices('GPU')\n",
    "if physical_devices:\n",
    "    for device in physical_devices:\n",
    "        tf.config.experimental.set_memory_growth(device, True)"
   ]
  },
  {
   "cell_type": "code",
   "execution_count": 20,
   "id": "xidSSiryg5Ao",
   "metadata": {
    "colab": {
     "base_uri": "https://localhost:8080/"
    },
    "id": "xidSSiryg5Ao",
    "outputId": "1a978683-cc47-49ce-bde6-d056cc2023dc"
   },
   "outputs": [
    {
     "name": "stdout",
     "output_type": "stream",
     "text": [
      "Drive already mounted at /content/drive; to attempt to forcibly remount, call drive.mount(\"/content/drive\", force_remount=True).\n"
     ]
    }
   ],
   "source": [
    "from google.colab import drive\n",
    "drive.mount('/content/drive')"
   ]
  },
  {
   "cell_type": "markdown",
   "id": "nNyuP-p8riH5",
   "metadata": {
    "id": "nNyuP-p8riH5"
   },
   "source": [
    "# Define the generator model"
   ]
  },
  {
   "cell_type": "code",
   "execution_count": 3,
   "id": "4088fa8a",
   "metadata": {
    "id": "4088fa8a"
   },
   "outputs": [],
   "source": [
    "\n",
    "def build_generator(latent_dim, num_classes):\n",
    "    model_input = layers.Input(shape=(latent_dim,))\n",
    "    label_input = layers.Input(shape=(num_classes,))\n",
    "\n",
    "    x = layers.Concatenate()([model_input, label_input])\n",
    "    x = layers.Dense(128 * 8 * 8, activation='relu')(x)\n",
    "    x = layers.Reshape((8, 8, 128))(x)\n",
    "    x = layers.Conv2DTranspose(128, kernel_size=4, strides=2, padding='same', activation='relu')(x)\n",
    "    x = layers.Conv2DTranspose(128, kernel_size=4, strides=2, padding='same', activation='relu')(x)\n",
    "    x = layers.Conv2DTranspose(128, kernel_size=4, strides=2, padding='same', activation='relu')(x)\n",
    "    x = layers.Conv2D(3, kernel_size=5, padding='same', activation='sigmoid')(x)\n",
    "\n",
    "    generator = models.Model([model_input, label_input], x)\n",
    "    return generator\n"
   ]
  },
  {
   "cell_type": "markdown",
   "id": "LS6nFkSnrqnG",
   "metadata": {
    "id": "LS6nFkSnrqnG"
   },
   "source": [
    "\n",
    "# Define the discriminator model"
   ]
  },
  {
   "cell_type": "code",
   "execution_count": 4,
   "id": "NFRyA2bWro3o",
   "metadata": {
    "id": "NFRyA2bWro3o"
   },
   "outputs": [],
   "source": [
    "\n",
    "def build_discriminator(img_shape, num_classes):\n",
    "    model_input = layers.Input(shape=img_shape)\n",
    "    label_input = layers.Input(shape=(num_classes,))\n",
    "\n",
    "    x = layers.Conv2D(64, kernel_size=5, strides=2, padding='same', activation='relu')(model_input)\n",
    "    x = layers.Conv2D(128, kernel_size=5, strides=2, padding='same', activation='relu')(x)\n",
    "    x = layers.Conv2D(256, kernel_size=5, strides=2, padding='same', activation='relu')(x)\n",
    "    x = layers.Flatten()(x)\n",
    "    x = layers.Concatenate()([x, label_input])\n",
    "    x = layers.Dense(1, activation='sigmoid')(x)\n",
    "\n",
    "    discriminator = models.Model([model_input, label_input], x)\n",
    "    return discriminator\n"
   ]
  },
  {
   "cell_type": "markdown",
   "id": "QY3y4bo3rvvm",
   "metadata": {
    "id": "QY3y4bo3rvvm"
   },
   "source": [
    "\n",
    "# Define the CGAN model"
   ]
  },
  {
   "cell_type": "code",
   "execution_count": 5,
   "id": "ji02GeJmrwbl",
   "metadata": {
    "id": "ji02GeJmrwbl"
   },
   "outputs": [],
   "source": [
    "\n",
    "def build_cgan(generator, discriminator):\n",
    "    model_input = layers.Input(shape=(latent_dim,))\n",
    "    label_input = layers.Input(shape=(num_classes,))\n",
    "\n",
    "    generated_image = generator([model_input, label_input])\n",
    "    cgan_output = discriminator([generated_image, label_input])\n",
    "\n",
    "    cgan = models.Model([model_input, label_input], cgan_output)\n",
    "    return cgan\n",
    "\n",
    "# Wasserstein loss function for improved stability\n",
    "def wasserstein_loss(y_true, y_pred):\n",
    "    return -tf.reduce_mean(y_true * y_pred)\n",
    "\n",
    "# Gradient penalty for Wasserstein GAN with gradient penalty (WGAN-GP)\n",
    "def gradient_penalty(f, real, fake):\n",
    "    alpha = tf.random.uniform([real.shape[0], 1, 1, 1], 0.0, 1.0)\n",
    "    interpolated = alpha * real + (1 - alpha) * fake\n",
    "    with tf.GradientTape() as t:\n",
    "        t.watch(interpolated)\n",
    "        pred = f(interpolated)\n",
    "    grad = t.gradient(pred, interpolated)\n",
    "    norm = tf.sqrt(tf.reduce_sum(tf.square(grad), axis=[1, 2, 3]))\n",
    "    return tf.reduce_mean(tf.square(norm - 1.0))"
   ]
  },
  {
   "cell_type": "markdown",
   "id": "KoZoGaILr1Yb",
   "metadata": {
    "id": "KoZoGaILr1Yb"
   },
   "source": [
    "# Load and preprocess the dataset"
   ]
  },
  {
   "cell_type": "code",
   "execution_count": 6,
   "id": "23388eef",
   "metadata": {
    "colab": {
     "base_uri": "https://localhost:8080/"
    },
    "id": "23388eef",
    "outputId": "1fb302e7-da5c-4613-b43a-14c3fc3ac47e"
   },
   "outputs": [
    {
     "name": "stdout",
     "output_type": "stream",
     "text": [
      "Found 15453 images belonging to 6 classes.\n"
     ]
    }
   ],
   "source": [
    "\n",
    "batch_size = 32\n",
    "latent_dim = 100\n",
    "num_classes = 6\n",
    "img_shape = (64, 64, 3)\n",
    "\n",
    "# Load images using ImageDataGenerator from Keras\n",
    "from tensorflow.keras.preprocessing.image import ImageDataGenerator\n",
    "\n",
    "datagen = ImageDataGenerator(rescale=1./255)\n",
    "train_generator = datagen.flow_from_directory(\n",
    "    \"dataset/\",\n",
    "    target_size=(64, 64),\n",
    "    batch_size=batch_size,\n",
    "    class_mode='categorical'\n",
    ")"
   ]
  },
  {
   "cell_type": "markdown",
   "id": "yM1FRlLZsdW3",
   "metadata": {
    "id": "yM1FRlLZsdW3"
   },
   "source": [
    "# Create generator, discriminator, and cgan\n"
   ]
  },
  {
   "cell_type": "code",
   "execution_count": 7,
   "id": "2f5957ca",
   "metadata": {
    "colab": {
     "base_uri": "https://localhost:8080/"
    },
    "id": "2f5957ca",
    "outputId": "2f7892f9-c1d2-4c18-d02a-7a2cc5cdfcd6"
   },
   "outputs": [
    {
     "name": "stdout",
     "output_type": "stream",
     "text": [
      "WARNING:tensorflow:From C:\\Users\\Owner\\anaconda3\\lib\\site-packages\\keras\\src\\backend.py:1398: The name tf.executing_eagerly_outside_functions is deprecated. Please use tf.compat.v1.executing_eagerly_outside_functions instead.\n",
      "\n"
     ]
    },
    {
     "name": "stderr",
     "output_type": "stream",
     "text": [
      "WARNING:absl:`lr` is deprecated in Keras optimizer, please use `learning_rate` or use the legacy optimizer, e.g.,tf.keras.optimizers.legacy.Adam.\n",
      "WARNING:absl:`lr` is deprecated in Keras optimizer, please use `learning_rate` or use the legacy optimizer, e.g.,tf.keras.optimizers.legacy.Adam.\n"
     ]
    }
   ],
   "source": [
    "generator = build_generator(latent_dim, num_classes)\n",
    "discriminator = build_discriminator(img_shape, num_classes)\n",
    "cgan = build_cgan(generator, discriminator)\n",
    "\n",
    "# Compile models\n",
    "discriminator.compile(optimizer=optimizers.Adam(lr=0.0002, beta_1=0.5), loss=wasserstein_loss)\n",
    "cgan.compile(optimizer=optimizers.Adam(lr=0.0002, beta_1=0.5), loss=wasserstein_loss)\n"
   ]
  },
  {
   "cell_type": "markdown",
   "id": "edMrwhoqsiVL",
   "metadata": {
    "id": "edMrwhoqsiVL"
   },
   "source": [
    "#train"
   ]
  },
  {
   "cell_type": "code",
   "execution_count": 8,
   "id": "bd185ef8",
   "metadata": {
    "colab": {
     "base_uri": "https://localhost:8080/"
    },
    "id": "bd185ef8",
    "outputId": "d233821e-34ca-47df-a21e-d78b464ff775"
   },
   "outputs": [
    {
     "name": "stdout",
     "output_type": "stream",
     "text": [
      "1/1 [==============================] - 0s 354ms/step\n",
      "WARNING:tensorflow:From C:\\Users\\Owner\\anaconda3\\lib\\site-packages\\keras\\src\\utils\\tf_utils.py:492: The name tf.ragged.RaggedTensorValue is deprecated. Please use tf.compat.v1.ragged.RaggedTensorValue instead.\n",
      "\n"
     ]
    },
    {
     "name": "stderr",
     "output_type": "stream",
     "text": [
      "WARNING:tensorflow:From C:\\Users\\Owner\\anaconda3\\lib\\site-packages\\keras\\src\\utils\\tf_utils.py:492: The name tf.ragged.RaggedTensorValue is deprecated. Please use tf.compat.v1.ragged.RaggedTensorValue instead.\n",
      "\n"
     ]
    },
    {
     "name": "stdout",
     "output_type": "stream",
     "text": [
      "Step 0/50 | D Loss: 1.4181650876998901 | G Loss: 0.30660220980644226\n",
      "1/1 [==============================] - 0s 119ms/step\n",
      "1/1 [==============================] - 0s 124ms/step\n",
      "1/1 [==============================] - 0s 117ms/step\n",
      "1/1 [==============================] - 0s 116ms/step\n",
      "1/1 [==============================] - 0s 116ms/step\n",
      "1/1 [==============================] - 0s 120ms/step\n",
      "1/1 [==============================] - 0s 118ms/step\n",
      "1/1 [==============================] - 0s 122ms/step\n",
      "1/1 [==============================] - 0s 115ms/step\n",
      "1/1 [==============================] - 0s 117ms/step\n",
      "1/1 [==============================] - 0s 116ms/step\n",
      "1/1 [==============================] - 0s 116ms/step\n",
      "1/1 [==============================] - 0s 117ms/step\n",
      "1/1 [==============================] - 0s 117ms/step\n",
      "1/1 [==============================] - 0s 122ms/step\n",
      "1/1 [==============================] - 0s 119ms/step\n",
      "1/1 [==============================] - 0s 116ms/step\n",
      "1/1 [==============================] - 0s 122ms/step\n",
      "1/1 [==============================] - 0s 118ms/step\n",
      "1/1 [==============================] - 0s 120ms/step\n",
      "1/1 [==============================] - 0s 117ms/step\n",
      "1/1 [==============================] - 0s 120ms/step\n",
      "1/1 [==============================] - 0s 123ms/step\n",
      "1/1 [==============================] - 0s 117ms/step\n",
      "1/1 [==============================] - 0s 125ms/step\n",
      "1/1 [==============================] - 0s 143ms/step\n",
      "1/1 [==============================] - 0s 156ms/step\n",
      "1/1 [==============================] - 0s 147ms/step\n",
      "1/1 [==============================] - 0s 158ms/step\n",
      "1/1 [==============================] - 0s 118ms/step\n",
      "1/1 [==============================] - 0s 149ms/step\n",
      "1/1 [==============================] - 0s 144ms/step\n",
      "1/1 [==============================] - 0s 141ms/step\n",
      "1/1 [==============================] - 0s 122ms/step\n",
      "1/1 [==============================] - 0s 140ms/step\n",
      "1/1 [==============================] - 0s 162ms/step\n",
      "1/1 [==============================] - 0s 121ms/step\n",
      "1/1 [==============================] - 0s 119ms/step\n",
      "1/1 [==============================] - 0s 123ms/step\n",
      "1/1 [==============================] - 0s 145ms/step\n",
      "1/1 [==============================] - 0s 139ms/step\n",
      "1/1 [==============================] - 0s 134ms/step\n",
      "1/1 [==============================] - 0s 131ms/step\n",
      "1/1 [==============================] - 0s 141ms/step\n",
      "1/1 [==============================] - 0s 135ms/step\n",
      "1/1 [==============================] - 0s 130ms/step\n",
      "1/1 [==============================] - 0s 122ms/step\n",
      "1/1 [==============================] - 0s 124ms/step\n",
      "1/1 [==============================] - 0s 153ms/step\n"
     ]
    }
   ],
   "source": [
    "# Training loop\n",
    "epochs = 10\n",
    "g1 = 50\n",
    "\n",
    "# steps_per_epoch = len(train_generator)\n",
    "steps_per_epoch = g1\n",
    "\n",
    "for step in range(steps_per_epoch):\n",
    "    # Train discriminator\n",
    "    real_images, labels = train_generator.next()\n",
    "    real_labels = np.argmax(labels, axis=1)  # Convert one-hot encoded labels to integer labels\n",
    "    real_images = (real_images - 0.5) * 2  # Rescale images to [-1, 1]\n",
    "\n",
    "    fake_labels = np.random.randint(0, num_classes, batch_size)\n",
    "    noise = np.random.normal(0, 1, (batch_size, latent_dim))\n",
    "    fake_images = generator.predict([noise, tf.keras.utils.to_categorical(fake_labels, num_classes)])\n",
    "\n",
    "    discriminator.trainable = True\n",
    "    d_loss_real = discriminator.train_on_batch([real_images, tf.keras.utils.to_categorical(real_labels, num_classes)], -np.ones(batch_size))\n",
    "    d_loss_fake = discriminator.train_on_batch([fake_images, tf.keras.utils.to_categorical(fake_labels, num_classes)], np.ones(batch_size))\n",
    "    gradient_loss = gradient_penalty(lambda x: discriminator([x, tf.keras.utils.to_categorical(fake_labels, num_classes)]), real_images, fake_images)\n",
    "    d_loss = d_loss_fake + d_loss_real + gradient_loss\n",
    "\n",
    "    # Train generator\n",
    "    noise = np.random.normal(0, 1, (batch_size, latent_dim))\n",
    "    fake_labels = np.random.randint(0, num_classes, batch_size)\n",
    "    discriminator.trainable = False\n",
    "    g_loss = cgan.train_on_batch([noise, tf.keras.utils.to_categorical(fake_labels, num_classes)], -np.ones(batch_size))\n",
    "\n",
    "    if step % 100 == 0:\n",
    "        print(f'Step {step}/{steps_per_epoch} | D Loss: {d_loss} | G Loss: {g_loss}')\n"
   ]
  },
  {
   "cell_type": "markdown",
   "id": "kUHAdF73spug",
   "metadata": {
    "id": "kUHAdF73spug"
   },
   "source": [
    "#generate faces"
   ]
  },
  {
   "cell_type": "code",
   "execution_count": 9,
   "id": "12304d70",
   "metadata": {
    "colab": {
     "base_uri": "https://localhost:8080/",
     "height": 1000
    },
    "id": "12304d70",
    "outputId": "dd912b9f-42a2-40ca-bfbb-4abedcab3ad3"
   },
   "outputs": [
    {
     "name": "stdout",
     "output_type": "stream",
     "text": [
      "1/1 [==============================] - 0s 120ms/step\n"
     ]
    },
    {
     "data": {
      "image/png": "[encoded data removed]",
      "text/plain": [
       "<Figure size 640x480 with 1 Axes>"
      ]
     },
     "metadata": {},
     "output_type": "display_data"
    },
    {
     "data": {
      "image/png": "[encoded data removed]",
      "text/plain": [
       "<Figure size 640x480 with 1 Axes>"
      ]
     },
     "metadata": {},
     "output_type": "display_data"
    },
    {
     "data": {
      "image/png": "[encoded data removed]",
      "text/plain": [
       "<Figure size 640x480 with 1 Axes>"
      ]
     },
     "metadata": {},
     "output_type": "display_data"
    },
    {
     "data": {
      "image/png": "[encoded data removed]",
      "text/plain": [
       "<Figure size 640x480 with 1 Axes>"
      ]
     },
     "metadata": {},
     "output_type": "display_data"
    },
    {
     "data": {
      "image/png": "[encoded data removed]",
      "text/plain": [
       "<Figure size 640x480 with 1 Axes>"
      ]
     },
     "metadata": {},
     "output_type": "display_data"
    }
   ],
   "source": [
    "import matplotlib.pyplot as plt\n",
    "\n",
    "def generate_samples(generator, num_samples):\n",
    "    os.makedirs('generated_samples', exist_ok=True)\n",
    "    noise = np.random.normal(0, 1, (num_samples, latent_dim))\n",
    "    labels = np.random.randint(0, num_classes, num_samples)\n",
    "    generated_images = generator.predict([noise, tf.keras.utils.to_categorical(labels, num_classes)])\n",
    "\n",
    "    for i in range(num_samples):\n",
    "        image = generated_images[i]\n",
    "        image = (image + 1) / 2\n",
    "        plt.imshow(image)\n",
    "        plt.axis('off')\n",
    "        plt.savefig(f'generated_samples/generated_image_{i}.png')\n",
    "        plt.show()\n",
    "\n",
    "generate_samples(generator, num_samples=5)\n"
   ]
  },
  {
   "cell_type": "code",
   "execution_count": 10,
   "id": "bb3e2bf9",
   "metadata": {
    "id": "bb3e2bf9"
   },
   "outputs": [
    {
     "name": "stdout",
     "output_type": "stream",
     "text": [
      "WARNING:tensorflow:Compiled the loaded model, but the compiled metrics have yet to be built. `model.compile_metrics` will be empty until you train or evaluate the model.\n"
     ]
    },
    {
     "name": "stderr",
     "output_type": "stream",
     "text": [
      "C:\\Users\\Owner\\anaconda3\\lib\\site-packages\\keras\\src\\engine\\training.py:3103: UserWarning: You are saving your model as an HDF5 file via `model.save()`. This file format is considered legacy. We recommend using instead the native Keras format, e.g. `model.save('my_model.keras')`.\n",
      "  saving_api.save_model(\n",
      "WARNING:tensorflow:Compiled the loaded model, but the compiled metrics have yet to be built. `model.compile_metrics` will be empty until you train or evaluate the model.\n"
     ]
    }
   ],
   "source": [
    "generator.save('GanGenerator.h5')"
   ]
  },
  {
   "cell_type": "code",
   "execution_count": 11,
   "id": "dc33baaf",
   "metadata": {},
   "outputs": [
    {
     "data": {
      "text/plain": [
       "'4.7.0'"
      ]
     },
     "execution_count": 11,
     "metadata": {},
     "output_type": "execute_result"
    }
   ],
   "source": [
    "import cv2\n",
    "cv2.__version__"
   ]
  },
  {
   "cell_type": "code",
   "execution_count": null,
   "id": "fe23acc4",
   "metadata": {},
   "outputs": [],
   "source": []
  }
 ],
 "metadata": {
  "colab": {
   "provenance": []
  },
  "kernelspec": {
   "display_name": "Python 3 (ipykernel)",
   "language": "python",
   "name": "python3"
  },
  "language_info": {
   "codemirror_mode": {
    "name": "ipython",
    "version": 3
   },
   "file_extension": ".py",
   "mimetype": "text/x-python",
   "name": "python",
   "nbconvert_exporter": "python",
   "pygments_lexer": "ipython3",
   "version": "3.9.13"
  }
 },
 "nbformat": 4,
 "nbformat_minor": 5
}
